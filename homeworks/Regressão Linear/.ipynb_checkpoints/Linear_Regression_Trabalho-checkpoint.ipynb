{
 "cells": [
  {
   "cell_type": "markdown",
   "metadata": {},
   "source": [
    "# Regressão Linear Simples - Trabalho\n",
    "\n",
    "## Estudo de caso: Seguro de automóvel sueco\n",
    "\n",
    "Agora, sabemos como implementar um modelo de regressão linear simples. Vamos aplicá-lo ao conjunto de dados do seguro de automóveis sueco. Esta seção assume que você baixou o conjunto de dados para o arquivo insurance.csv, o qual está disponível no notebook respectivo.\n",
    "\n",
    "O conjunto de dados envolve a previsão do pagamento total de todas as reclamações em milhares de Kronor sueco, dado o número total de reclamações. É um dataset composto por 63 observações com 1 variável de entrada e 1 variável de saída. Os nomes das variáveis são os seguintes:\n",
    "\n",
    "1. Número de reivindicações.\n",
    "2. Pagamento total para todas as reclamações em milhares de Kronor sueco.\n",
    "\n",
    "Voce deve adicionar algumas funções acessórias à regressão linear simples. Especificamente, uma função para carregar o arquivo CSV chamado *load_csv ()*, uma função para converter um conjunto de dados carregado para números chamado *str_column_to_float ()*, uma função para avaliar um algoritmo usando um conjunto de treino e teste chamado *split_train_split ()*, a função para calcular RMSE chamado *rmse_metric ()* e uma função para avaliar um algoritmo chamado *evaluate_algorithm()*.\n",
    "\n",
    "Utilize um conjunto de dados de treinamento de 60% dos dados para preparar o modelo. As previsões devem ser feitas nos restantes 40%. \n",
    "\n",
    "Compare a performabce do seu algoritmo com o algoritmo baseline, o qual utiliza a média dos pagamentos realizados para realizar a predição ( a média é 72,251 mil Kronor).\n"
   ]
  },
  {
   "cell_type": "code",
   "execution_count": null,
   "metadata": {},
   "outputs": [],
   "source": [
    "# falta fazer o algoritmo diferente do baseline"
   ]
  },
  {
   "cell_type": "code",
   "execution_count": 15,
   "metadata": {},
   "outputs": [],
   "source": [
    "import pandas as pd\n",
    "import matplotlib as plt\n",
    "import numpy as np\n",
    "from csv import reader\n",
    "from math import sqrt\n",
    "from random import randrange"
   ]
  },
  {
   "cell_type": "code",
   "execution_count": 52,
   "metadata": {},
   "outputs": [],
   "source": [
    "# carregar um arquivo csv\n",
    "def load_csv(filename):\n",
    "    dataset = list()\n",
    "    with open(filename, 'r') as file:\n",
    "        csv_reader = reader(file)\n",
    "        for row in csv_reader:\n",
    "            if not row:\n",
    "                continue\n",
    "            dataset.append(row)\n",
    "    return dataset\n",
    "\n",
    "# Converte string para float\n",
    "def str_column_to_float(dataset, column):\n",
    "    for row in dataset:\n",
    "        row[column] = float(row[column].strip())\n",
    "\n",
    "def train_test_split(dataset, split):\n",
    "    train = list()\n",
    "    train_size = split * len(dataset)\n",
    "    dataset_copy = list(dataset)\n",
    "    while len(train) < train_size:\n",
    "        index = randrange(len(dataset_copy))\n",
    "        train.append(dataset_copy.pop(index))\n",
    "    return train, dataset_copy\n",
    "\n",
    "# Função de cálculo do erro quadrático médio\n",
    "def rmse_metric(actual, predicted):\n",
    "    sum_error = 0.0\n",
    "    for i in range(0, len(actual)):\n",
    "        prediction_error = predicted[i] - actual[i]\n",
    "        sum_error += (prediction_error **2)\n",
    "    mean_error = sum_error / float(len(actual))\n",
    "    return sqrt(mean_error)\n",
    "\n",
    "# Avaliar um algoritmo usando a divisão de dados de treino e teste:\n",
    "def evaluate_algorithm(dataset, algorithm, split, funcaoCoeficientes):\n",
    "    train, test_set = train_test_split(dataset, split)\n",
    "    predicted = algorithm(dataset, test_set, funcaoCoeficientes)\n",
    "    print(predicted)\n",
    "    actual = [row[-1] for row in test_set]\n",
    "    rmse = rmse_metric(actual, predicted)\n",
    "    return rmse\n",
    "\n",
    "def mean(values):\n",
    "    return sum(values) / float(len(values))\n",
    "\n",
    "def variance(values, mean):\n",
    "    return sum([(x-mean)**2 for x in values])\n",
    "\n",
    "def covariance(x, mean_x, y, mean_y):\n",
    "    covar = 0.0\n",
    "    for i in range(len(x)):\n",
    "        covar += (x[i] - mean_x) * (y[i] - mean_y)\n",
    "    return covar\n",
    "\n",
    "def coefficients(dataset):\n",
    "    x = [row[0] for row in dataset]\n",
    "    y = [row[1] for row in dataset]\n",
    "    x_mean, y_mean = mean(x), mean(y)\n",
    "    b1 = covariance(x, x_mean, y, y_mean) / variance(x, x_mean)\n",
    "    b0 = y_mean - b1 * x_mean\n",
    "    return [b0, b1]\n",
    "\n",
    "def simple_linear_regression(train, test, funcaoCoeficientes):\n",
    "    predictions = list()\n",
    "    b0, b1 = funcaoCoeficientes(train)\n",
    "    for row in test:\n",
    "        ypred = b0 + b1 * row[0]\n",
    "        predictions.append(ypred)\n",
    "    return predictions\n",
    "\n",
    "\n",
    "def coefficients2(train):\n",
    "    w1, w2, alpha = 0., 0., 0.001\n",
    "    x = [row[0] for row in train]\n",
    "    y = [row[1] for row in train]\n",
    "    n = len(x)\n",
    "    for _ in range(0,1000): \n",
    "        sum_w1 = 0\n",
    "        sum_w2 = 0\n",
    "        sum_2 = 0\n",
    "        for i in range(0, n):\n",
    "            y_linha = w1 + w2*x[i]\n",
    "            sum_w1 += y[i] - y_linha\n",
    "            sum_w2 += (y[i] - y_linha) * x[i]\n",
    "            sum_2 += (y[i] - w1 - w2*x[i]) ** 2\n",
    "        w1 += (alpha*(1/n)) * sum_w1\n",
    "        w2 += (alpha*(1/n)) * sum_w2\n",
    "    return w1, w2"
   ]
  },
  {
   "cell_type": "code",
   "execution_count": 53,
   "metadata": {},
   "outputs": [
    {
     "name": "stdout",
     "output_type": "stream",
     "text": [
      "[388.68743024628236, 84.85713340037577, 67.78801560004393, 54.13272135977847, 183.8580166423004, 57.54654491984484, 40.47742711951301, 30.23595643931391, 98.51242764064123, 50.71889779971211, 30.23595643931391, 88.27095696044213, 105.34007476077397, 57.54654491984484, 228.23772292316318, 64.37419203997757, 146.30595748157037, 57.54654491984484, 112.1677218809067, 30.23595643931391, 78.02948628024305, 122.4091925611058, 101.92625120070761, 125.82301612117217, 108.75389832084034]\n",
      "RMSE: 38.023\n"
     ]
    }
   ],
   "source": [
    "filename = 'insurance.csv'\n",
    "dataset = load_csv(filename)\n",
    "for i in range(0, len(dataset[0])):\n",
    "    str_column_to_float(dataset, i)\n",
    "\n",
    "# Versão vista em sala\n",
    "split = 0.6\n",
    "rmse = evaluate_algorithm(dataset, simple_linear_regression, split, coefficients)\n",
    "    \n",
    "print('RMSE: %.3f' %(rmse))\n"
   ]
  },
  {
   "cell_type": "code",
   "execution_count": 54,
   "metadata": {},
   "outputs": [
    {
     "name": "stdout",
     "output_type": "stream",
     "text": [
      "[77.77431319797917, 55.735429185672906, 463.4547834133389, 154.9104072410511, 217.35391194258554, 44.71598717951977, 92.46690253951668, 15.33080849644475, 96.14004987490105, 92.46690253951668, 114.50578655182295, 33.69654517336664, 81.44746053336354, 33.69654517336664, 48.38913451490415, 232.04650128412305, 66.75487119182604, 228.37335394873867, 210.00761727181677, 63.08172385644166, 118.17893388720732, 41.04283984413539, 121.8520812225917, 59.408576521057284, 202.66132260104803]\n",
      "RMSE: 39.116\n"
     ]
    }
   ],
   "source": [
    "# Nossa versão\n",
    "split = 0.6\n",
    "rmse = evaluate_algorithm(dataset, simple_linear_regression, split, coefficients2)\n",
    "    \n",
    "print('RMSE: %.3f' %(rmse))"
   ]
  }
 ],
 "metadata": {
  "kernelspec": {
   "display_name": "Python 3",
   "language": "python",
   "name": "python3"
  },
  "language_info": {
   "codemirror_mode": {
    "name": "ipython",
    "version": 3
   },
   "file_extension": ".py",
   "mimetype": "text/x-python",
   "name": "python",
   "nbconvert_exporter": "python",
   "pygments_lexer": "ipython3",
   "version": "3.7.3"
  }
 },
 "nbformat": 4,
 "nbformat_minor": 2
}
