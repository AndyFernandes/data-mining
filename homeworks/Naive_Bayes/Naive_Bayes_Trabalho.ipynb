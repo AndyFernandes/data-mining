{
 "cells": [
  {
   "cell_type": "markdown",
   "metadata": {},
   "source": [
    "# Naive Bayes - Trabalho\n",
    "\n",
    "## Questão 1\n",
    "\n",
    "Implemente um classifacor Naive Bayes para o problema de predizer a qualidade de um carro. Para este fim, utilizaremos um conjunto de dados referente a qualidade de carros, disponível no [UCI](https://archive.ics.uci.edu/ml/datasets/car+evaluation). Este dataset de carros possui as seguintes features e classe:\n",
    "\n",
    "** Attributos **\n",
    "1. buying: vhigh, high, med, low\n",
    "2. maint: vhigh, high, med, low\n",
    "3. doors: 2, 3, 4, 5, more\n",
    "4. persons: 2, 4, more\n",
    "5. lug_boot: small, med, big\n",
    "6. safety: low, med, high\n",
    "\n",
    "** Classes **\n",
    "1. unacc, acc, good, vgood\n",
    "\n",
    "## Questão 2\n",
    "Crie uma versão de sua implementação usando as funções disponíveis na biblioteca SciKitLearn para o Naive Bayes ([veja aqui](http://scikit-learn.org/stable/modules/naive_bayes.html)) \n",
    "\n",
    "## Questão 3\n",
    "\n",
    "Analise a acurácia dos dois algoritmos e discuta a sua solução."
   ]
  },
  {
   "cell_type": "markdown",
   "metadata": {
    "collapsed": true
   },
   "source": [
    "# Resolução\n",
    "\n",
    "## Questão 1\n"
   ]
  },
  {
   "cell_type": "code",
   "execution_count": 1,
   "metadata": {},
   "outputs": [],
   "source": [
    "# X = [0.5, 0.6, 0.7, 1, 2, 3] => predizer a classe\n",
    "# \n",
    "# p(c|x) = P(X|C)*P(C) / P(X) => P(X|C)*P(C)\n",
    "# MAIOR P(C|X) ai a gente retorna que é a c\n",
    "\n",
    "# probabilidade da classe = p(c) => len(classe)/numero de linhas do dataset\n",
    "# probabilidade do elemento x dado a classe = p(x|c) = p(x[0]|c)*p(x[1]|c)*p(x[2]|c)*...*p(x[5]|c)  \n",
    "# X = [0.5, 0.6, 0.7, 1, 2, 3]\n",
    "# probabilidade do elemento x = p(x)\n",
    "\n",
    "# probabilidade de cada elemento para cada feature para cada classe => elemento/len(classe)\n",
    "# os valores da classe estão ordenados de 0 a 3"
   ]
  },
  {
   "cell_type": "code",
   "execution_count": 4,
   "metadata": {},
   "outputs": [],
   "source": [
    "import numpy as np\n",
    "import pandas as pd\n",
    "import random\n",
    "from sklearn.metrics import accuracy_score, classification_report\n",
    "from sklearn.model_selection import KFold, cross_val_score, train_test_split\n",
    "from sklearn.naive_bayes import GaussianNB\n",
    "from statistics import mean"
   ]
  },
  {
   "cell_type": "code",
   "execution_count": 6,
   "metadata": {},
   "outputs": [],
   "source": [
    "def categorize_data(dataset, columns):\n",
    "    # Categorizando os dados\n",
    "    for feature in columns:\n",
    "        dataset[feature] = dataset[feature].astype('category')\n",
    "        dataset[feature] = dataset[feature].cat.codes\n",
    "    return dataset\n",
    "\n",
    "def createNB(x, y):\n",
    "    classes = np.unique(y)\n",
    "    K = classes.shape[0]\n",
    "    D = x.shape[1]\n",
    "    \n",
    "    prioridadeClasses = np.array([np.sum(y == k) for k in classes])/y.shape[0]\n",
    "    \n",
    "    mean = np.zeros((D, K))\n",
    "    var = np.zeros((D, K))\n",
    "    for k in classes:\n",
    "        xk = x[y == k]\n",
    "        mean[:,k] = np.mean(xk, axis = 0)\n",
    "        var[:, k] = np.sum((xk - mean[:, k])**2, axis = 0) / xk.shape[0]\n",
    "    \n",
    "    return {'classes': classes, 'prioridade': prioridadeClasses, 'K': K, 'D': D, 'mean': mean, 'var':var}\n",
    "\n",
    "def predic(model, x):\n",
    "    pred = np.zeros((x.shape[0], model['K']))\n",
    "    \n",
    "    for k in range(model['K']):\n",
    "        pred[:,k] = - 0.5 * np.sum(np.log(2*np.pi*model['var'][:,k])) \\\n",
    "                    - 0.5 * np.sum((x - model['mean'][:,k])**2 / model['var'][:,k], axis=1) \\\n",
    "                    + model['prioridade'][k]\n",
    "    return model['classes'][np.argmax(pred, axis=1)]"
   ]
  },
  {
   "cell_type": "code",
   "execution_count": 7,
   "metadata": {},
   "outputs": [],
   "source": [
    "columns = [\"buying\", \"maint\", \"doors\", \"persons\", \"lug_boot\", \"safety\", \"class\"]\n",
    "features = [\"buying\", \"maint\", \"doors\", \"persons\", \"lug_boot\", \"safety\"]\n",
    "map_class = {0:'acc', 1:'good', 2:'unacc', 3:'vgood'}\n",
    "\n",
    "dataset = pd.read_csv(\"carData.csv\", names=[\"buying\", \"maint\", \"doors\", \"persons\", \"lug_boot\", \"safety\", \"class\"])\n",
    "dataset = categorize_data(dataset, columns)\n",
    "\n",
    "treino, teste = train_test_split(dataset,test_size=0.3)\n",
    "treino_x = treino[features]\n",
    "treino_y = treino['class']\n",
    "teste_x = teste[features]\n",
    "teste_y = teste['class']"
   ]
  },
  {
   "cell_type": "code",
   "execution_count": 10,
   "metadata": {},
   "outputs": [
    {
     "name": "stderr",
     "output_type": "stream",
     "text": [
      "C:\\Users\\andre\\Miniconda3\\lib\\site-packages\\ipykernel_launcher.py:30: RuntimeWarning: divide by zero encountered in log\n"
     ]
    },
    {
     "data": {
      "text/plain": [
       "0.055876685934489405"
      ]
     },
     "execution_count": 10,
     "metadata": {},
     "output_type": "execute_result"
    }
   ],
   "source": [
    "model = createNB(np.array(treino_x), np.array(treino_y))\n",
    "model\n",
    "predict = predic(model, teste_x)\n",
    "accuracy_score(teste_y, predict)"
   ]
  },
  {
   "cell_type": "markdown",
   "metadata": {},
   "source": [
    "# Questão 2 & 3"
   ]
  },
  {
   "cell_type": "code",
   "execution_count": 11,
   "metadata": {},
   "outputs": [
    {
     "name": "stderr",
     "output_type": "stream",
     "text": [
      "C:\\Users\\andre\\Miniconda3\\lib\\site-packages\\ipykernel_launcher.py:30: RuntimeWarning: divide by zero encountered in log\n",
      "C:\\Users\\andre\\Miniconda3\\lib\\site-packages\\ipykernel_launcher.py:30: RuntimeWarning: divide by zero encountered in log\n",
      "C:\\Users\\andre\\Miniconda3\\lib\\site-packages\\ipykernel_launcher.py:30: RuntimeWarning: divide by zero encountered in log\n",
      "C:\\Users\\andre\\Miniconda3\\lib\\site-packages\\ipykernel_launcher.py:30: RuntimeWarning: divide by zero encountered in log\n"
     ]
    },
    {
     "name": "stdout",
     "output_type": "stream",
     "text": [
      "[0.653179190751445, 0.6445086705202312, 0.6329479768786127, 0.5838150289017341, 0.630057803468208]\n",
      "[0.023121387283236993, 0.023121387283236993, 0.04046242774566474, 0.02023121387283237, 0.04046242774566474]\n"
     ]
    },
    {
     "name": "stderr",
     "output_type": "stream",
     "text": [
      "C:\\Users\\andre\\Miniconda3\\lib\\site-packages\\ipykernel_launcher.py:30: RuntimeWarning: divide by zero encountered in log\n"
     ]
    }
   ],
   "source": [
    "for feature in [\"buying\", \"maint\", \"doors\", \"persons\", \"lug_boot\", \"safety\", \"class\"]:\n",
    "    dataset[feature] = dataset[feature].astype('category')\n",
    "    dataset[feature] = dataset[feature].cat.codes\n",
    "\n",
    "kf = KFold(n_splits = 5, shuffle = True)\n",
    "accuracy1 = [];\n",
    "accuracy2 = [];\n",
    "\n",
    "for _ in range(0,5):\n",
    "    result = next(kf.split(dataset), None)\n",
    "    train = dataset.iloc[result[0]]\n",
    "    test =  dataset.iloc[result[1]]\n",
    "    \n",
    "    target_train = train['class']\n",
    "    target_test = test['class']\n",
    "    \n",
    "    train = train[[\"buying\", \"maint\", \"doors\", \"persons\", \"lug_boot\", \"safety\"]]\n",
    "    test = test[[\"buying\", \"maint\", \"doors\", \"persons\", \"lug_boot\", \"safety\"]]\n",
    "    \n",
    "    naive_bayes = GaussianNB()\n",
    "    naive_bayes.fit(train, target_train)\n",
    "    target_pred = naive_bayes.predict(test)\n",
    "    \n",
    "    model = createNB(np.array(train), np.array(target_train))\n",
    "    predict = predic(model, test)\n",
    "    \n",
    "    accuracy1.append(accuracy_score(target_test, target_pred))\n",
    "    accuracy2.append(accuracy_score(target_test, predict))\n",
    "\n",
    "print(accuracy1)\n",
    "print(accuracy2)\n",
    "# Fazer média da acuracia"
   ]
  },
  {
   "cell_type": "markdown",
   "metadata": {},
   "source": [
    "# Discussão sobre solução\n",
    "\n",
    "Nitidamente o resultado provido pelo uso de funções do Scikit-Learn foi bem melhor do que o que implementamos a mão. Infelizmente, após refazer o algoritmo 2 vezes, ainda não pudemos observar o que está acontecendo para que sua acurácea esteja tão ruim."
   ]
  }
 ],
 "metadata": {
  "kernelspec": {
   "display_name": "Python 3",
   "language": "python",
   "name": "python3"
  },
  "language_info": {
   "codemirror_mode": {
    "name": "ipython",
    "version": 3
   },
   "file_extension": ".py",
   "mimetype": "text/x-python",
   "name": "python",
   "nbconvert_exporter": "python",
   "pygments_lexer": "ipython3",
   "version": "3.7.3"
  }
 },
 "nbformat": 4,
 "nbformat_minor": 2
}
