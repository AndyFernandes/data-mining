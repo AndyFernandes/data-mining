{
 "cells": [
  {
   "cell_type": "code",
   "execution_count": 1,
   "metadata": {},
   "outputs": [
    {
     "data": {
      "text/plain": [
       "\u001b[36ma\u001b[0m: Double = \u001b[32m1.0\u001b[0m"
      ]
     },
     "metadata": {},
     "output_type": "display_data"
    }
   ],
   "source": [
    "var a = 1.0"
   ]
  },
  {
   "cell_type": "code",
   "execution_count": 2,
   "metadata": {},
   "outputs": [
    {
     "data": {
      "text/plain": [
       "\u001b[36mb\u001b[0m: Double = \u001b[32m1.0\u001b[0m"
      ]
     },
     "metadata": {},
     "output_type": "display_data"
    }
   ],
   "source": [
    "val b: Double = 1.0"
   ]
  },
  {
   "cell_type": "code",
   "execution_count": 8,
   "metadata": {},
   "outputs": [
    {
     "ename": "",
     "evalue": "",
     "output_type": "error",
     "traceback": [
      "java.nio.charset.UnmappableCharacterException: Input length = 1",
      "\tjava.nio.charset.CoderResult.throwException(Unknown Source)",
      "\tsun.nio.cs.StreamDecoder.implRead(Unknown Source)",
      "\tsun.nio.cs.StreamDecoder.read(Unknown Source)",
      "\tjava.io.InputStreamReader.read(Unknown Source)",
      "\tjava.io.BufferedReader.fill(Unknown Source)",
      "\tjava.io.BufferedReader.readLine(Unknown Source)",
      "\tjava.io.BufferedReader.readLine(Unknown Source)",
      "\tscala.io.BufferedSource$BufferedLineIterator.hasNext(BufferedSource.scala:67)",
      "\tscala.collection.Iterator$$anon$10.hasNext(Iterator.scala:308)",
      "\tscala.collection.Iterator$$anon$11.hasNext(Iterator.scala:327)",
      "\tscala.collection.Iterator$class.foreach(Iterator.scala:727)",
      "\tscala.collection.AbstractIterator.foreach(Iterator.scala:1157)",
      "\tscala.collection.generic.Growable$class.$plus$plus$eq(Growable.scala:48)",
      "\tscala.collection.mutable.ListBuffer.$plus$plus$eq(ListBuffer.scala:176)",
      "\tscala.collection.mutable.ListBuffer.$plus$plus$eq(ListBuffer.scala:45)",
      "\tscala.collection.TraversableOnce$class.to(TraversableOnce.scala:273)",
      "\tscala.collection.AbstractIterator.to(Iterator.scala:1157)",
      "\tscala.collection.TraversableOnce$class.toList(TraversableOnce.scala:257)",
      "\tscala.collection.AbstractIterator.toList(Iterator.scala:1157)",
      "\tcmd7$$user$$anonfun$2.apply(Main.scala:63)",
      "\tcmd7$$user$$anonfun$2.apply(Main.scala:59)"
     ]
    }
   ],
   "source": [
    "import scala.io.Source\n",
    "\n",
    "case class Amostra(id: String, asins: String, brand: String, ingredients: String)\n",
    "\n",
    "val lines = Source.fromFile(\"ingredients.csv\").getLines.drop(1)\n",
    "\n",
    "//utilize o método split(c) para dividir uma String, separando-as pelo caractere c\n",
    "val amostras = lines\n",
    "    //separando os valores por tabulação\n",
    "    .map(_.split(\",\"))\n",
    "    .map(l => Amostra(l.head, l(1), l(2), l(8)))\n",
    "    .toList\n"
   ]
  },
  {
   "cell_type": "code",
   "execution_count": null,
   "metadata": {},
   "outputs": [],
   "source": []
  }
 ],
 "metadata": {
  "kernelspec": {
   "display_name": "Scala 2.10",
   "language": "scala210",
   "name": "scala210"
  },
  "language_info": {
   "codemirror_mode": "text/x-scala",
   "file_extension": "scala",
   "mimetype": "text/x-scala",
   "name": "scala210",
   "pygments_lexer": "scala",
   "version": "2.10.5"
  }
 },
 "nbformat": 4,
 "nbformat_minor": 2
}
