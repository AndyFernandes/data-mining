{
 "cells": [
  {
   "cell_type": "markdown",
   "metadata": {},
   "source": [
    "# Aula 3\n",
    "---\n",
    "\n",
    "Essa aula é um desafio para por em prova seus conhecimentos em Scala! Para resolvê-lo, você deverar utilizar o que foi apresentado nas últimas aulas E consultar materiais complementares(stack overflow) para aprender ainda mais em um cenário prático!"
   ]
  },
  {
   "cell_type": "markdown",
   "metadata": {},
   "source": [
    "## Baixando o dataset\n",
    "\n",
    "O dataset desta atividade foi tirado do Kaggle e chama-se [Food Ingredient List](https://www.kaggle.com/datafiniti/food-ingredient-lists/version/1#). Ele contém os ingredientes presentes em 10000 produtos encontrados em supermercados. Para mais informações, visite a [página do dataset](https://www.kaggle.com/datafiniti/food-ingredient-lists/version/1#).\n",
    "\n",
    "O código abaixo faz o download do dataset para o diretório atual deste notebook."
   ]
  },
  {
   "cell_type": "markdown",
   "metadata": {},
   "source": [
    "## Processando o dataset\n",
    "\n",
    "Para simplificar o desafio (pois já há muita coisa difícil para se fazer) o dataset foi mapeado para TSV. As informações estão separadas por **tabulações** (caractere \\t). Processe-o e armazene-o da maneira que achar mais conveniente"
   ]
  },
  {
   "cell_type": "code",
   "execution_count": 1,
   "metadata": {
    "collapsed": true
   },
   "outputs": [
    {
     "data": {
      "text/plain": [
       "\u001b[32mimport \u001b[39m\u001b[36mscala.io.Source\n",
       "\n",
       "\u001b[39m\n",
       "defined \u001b[32mclass\u001b[39m \u001b[36mAmostra\u001b[39m\n",
       "\u001b[36mlines\u001b[39m: \u001b[32mIterator\u001b[39m[\u001b[32mString\u001b[39m] = empty iterator\n",
       "\u001b[36mamostras\u001b[39m: \u001b[32mList\u001b[39m[\u001b[32mAmostra\u001b[39m] = \u001b[33mList\u001b[39m(\n",
       "  \u001b[33mAmostra\u001b[39m(\n",
       "    \u001b[32m\"AVphBRHOilAPnD_x0OrE\"\u001b[39m,\n",
       "    \u001b[32m\"B00HXST15C\"\u001b[39m,\n",
       "    \u001b[32m\"Simon Fischer\"\u001b[39m,\n",
       "    \u001b[32m\"Dried Prunes,Water,Corn Syrup,Sugar,Pectin.\"\u001b[39m,\n",
       "    \u001b[32m\"Grocery & Gourmet Food,Food,Grocery\"\u001b[39m\n",
       "  ),\n",
       "  \u001b[33mAmostra\u001b[39m(\n",
       "    \u001b[32m\"AVpfNFy1LJeJML434ma2\"\u001b[39m,\n",
       "    \u001b[32m\"B008VT0W8C,B0092F8OJ8\"\u001b[39m,\n",
       "    \u001b[32m\"McCormick\"\u001b[39m,\n",
       "\u001b[33m...\u001b[39m"
      ]
     },
     "execution_count": 1,
     "metadata": {},
     "output_type": "execute_result"
    }
   ],
   "source": [
    "//importando o objeto Source, que auxilia na manipulação de arquivos\n",
    "import scala.io.Source\n",
    "\n",
    "case class Amostra(id: String, asins: String, brand: String, ingredients: String, categories: String)\n",
    "val lines = Source.fromFile(\"ingredients.tsv\").getLines.drop(1)\n",
    "\n",
    "//utilize o método split(c) para dividir uma String, separando-as pelo caractere c\n",
    "val amostras = lines\n",
    "    //separando os valores por tabulação\n",
    "    .map(_.split(\"\\t\"))\n",
    "    .map(l => Amostra(l.head, l(1), l(2), l(8), l(3)))\n",
    "    .toList\n",
    "\n",
    "//agrupando as amostras pela classe\n",
    "// val amostrasAgrupadas = amostras\n",
    "//     .groupBy(_.c)\n",
    "\n",
    "// //definindo função que calcula a média de uma sequência de Doubles\n",
    "// def mean(values: Seq[Double]): Double = values.sum / values.length\n",
    "\n",
    "// //para cada classe e suas amostras, calcular a média de cada um dos 4 atributos\n",
    "// for((c,amostras) <- amostrasAgrupadas){\n",
    "//     println(s\"Analisando classe $c...\")\n",
    "//     val slMedia = mean(amostras.map(_.sl))\n",
    "//     println(s\"Media do comprimento da sépala: $slMedia\")\n",
    "//     val swMedia = mean(amostras.map(_.sw))\n",
    "//     println(s\"Media da largura da sépala: $swMedia\")\n",
    "//     val plMedia = mean(amostras.map(_.pl))\n",
    "//     println(s\"Media do comprimento da pétala: $plMedia\")\n",
    "//     val pwMedia = mean(amostras.map(_.pw))\n",
    "//     println(s\"Media da largura da pétala: $pwMedia\")\n",
    "//     println(\"-------------------\")\n",
    "// }\n"
   ]
  },
  {
   "cell_type": "markdown",
   "metadata": {},
   "source": [
    "## Demandas\n",
    "---"
   ]
  },
  {
   "cell_type": "markdown",
   "metadata": {},
   "source": [
    "### 1 - Quantas e quais as marcas de produtos contidas no dataset?"
   ]
  },
  {
   "cell_type": "code",
   "execution_count": 2,
   "metadata": {},
   "outputs": [
    {
     "data": {
      "text/plain": [
       "\u001b[36mbrands\u001b[39m: \u001b[32mIterable\u001b[39m[\u001b[32mString\u001b[39m] = \u001b[33mSet\u001b[39m(\n",
       "  \u001b[32m\"ChocZero\"\u001b[39m,\n",
       "  \u001b[32m\"Fudge Shoppe\"\u001b[39m,\n",
       "  \u001b[32m\"Nabisco\"\u001b[39m,\n",
       "  \u001b[32m\"WarHeads\"\u001b[39m,\n",
       "  \u001b[32m\"Pappy's\"\u001b[39m,\n",
       "  \u001b[32m\"Morton & Bassett\"\u001b[39m,\n",
       "  \u001b[32m\"Chocolove\"\u001b[39m,\n",
       "  \u001b[32m\"Organic Valley\"\u001b[39m,\n",
       "  \u001b[32m\"Dove\"\u001b[39m,\n",
       "  \u001b[32m\"Yum Earth\"\u001b[39m,\n",
       "  \u001b[32m\"DaVinci\"\u001b[39m,\n",
       "\u001b[33m...\u001b[39m\n",
       "\u001b[36mnumberBrands\u001b[39m: \u001b[32mInt\u001b[39m = \u001b[32m3144\u001b[39m"
      ]
     },
     "execution_count": 2,
     "metadata": {},
     "output_type": "execute_result"
    }
   ],
   "source": [
    "val brands = amostras.groupBy(_.brand).keys\n",
    "val numberBrands = amostras.groupBy(_.brand).size"
   ]
  },
  {
   "cell_type": "markdown",
   "metadata": {},
   "source": [
    "### 2 - Quais as marcas que aparecem mais no dataset? Quais aparecem menos?"
   ]
  },
  {
   "cell_type": "code",
   "execution_count": 3,
   "metadata": {},
   "outputs": [
    {
     "data": {
      "text/plain": [
       "\u001b[32mimport \u001b[39m\u001b[36mscala.collection.immutable.ListMap\n",
       "\n",
       "\u001b[39m\n",
       "\u001b[36mbrandsFrequencyLow\u001b[39m: \u001b[32mSeq\u001b[39m[(\u001b[32mString\u001b[39m, \u001b[32mInt\u001b[39m)] = \u001b[33mArrayBuffer\u001b[39m(\n",
       "  (\u001b[32m\"WarHeads\"\u001b[39m, \u001b[32m1\u001b[39m),\n",
       "  (\u001b[32m\"Pappy's\"\u001b[39m, \u001b[32m1\u001b[39m),\n",
       "  (\u001b[32m\"Yum Earth\"\u001b[39m, \u001b[32m1\u001b[39m),\n",
       "  (\u001b[32m\"DaVinci\"\u001b[39m, \u001b[32m1\u001b[39m),\n",
       "  (\u001b[32m\"Mike's Popcorn\"\u001b[39m, \u001b[32m1\u001b[39m),\n",
       "  (\u001b[32m\"Mokulele Farms\"\u001b[39m, \u001b[32m1\u001b[39m),\n",
       "  (\u001b[32m\"KAY'S NATURAL\"\u001b[39m, \u001b[32m1\u001b[39m),\n",
       "  (\u001b[32m\"Bella Viva Dried Fruit\"\u001b[39m, \u001b[32m1\u001b[39m),\n",
       "  (\u001b[32m\"CAFE DU MOND\"\u001b[39m, \u001b[32m1\u001b[39m),\n",
       "  (\u001b[32m\"Caramel Creams\"\u001b[39m, \u001b[32m1\u001b[39m),\n",
       "  (\u001b[32m\"Bear Creek\"\u001b[39m, \u001b[32m1\u001b[39m),\n",
       "\u001b[33m...\u001b[39m\n",
       "\u001b[36mbrandsFrequencyHigh\u001b[39m: \u001b[32mSeq\u001b[39m[(\u001b[32mString\u001b[39m, \u001b[32mInt\u001b[39m)] = \u001b[33mArrayBuffer\u001b[39m(\n",
       "  (\u001b[32m\"\"\u001b[39m, \u001b[32m886\u001b[39m),\n",
       "  (\u001b[32m\"Goya Food\"\u001b[39m, \u001b[32m77\u001b[39m),\n",
       "  (\u001b[32m\"CVS Gold Emblem\"\u001b[39m, \u001b[32m75\u001b[39m),\n",
       "  (\u001b[32m\"Roland\"\u001b[39m, \u001b[32m75\u001b[39m),\n",
       "  (\u001b[32m\"Bob's Red Mill\"\u001b[39m, \u001b[32m71\u001b[39m),\n",
       "  (\u001b[32m\"Smart Sense\"\u001b[39m, \u001b[32m70\u001b[39m),\n",
       "  (\u001b[32m\"Betty Crocker\"\u001b[39m, \u001b[32m61\u001b[39m),\n",
       "  (\u001b[32m\"McCormick\"\u001b[39m, \u001b[32m56\u001b[39m),\n",
       "  (\u001b[32m\"Kellogg's\"\u001b[39m, \u001b[32m53\u001b[39m),\n",
       "  (\u001b[32m\"Utz\"\u001b[39m, \u001b[32m51\u001b[39m),\n",
       "  (\u001b[32m\"Black Tie Mercantile\"\u001b[39m, \u001b[32m51\u001b[39m),\n",
       "\u001b[33m...\u001b[39m"
      ]
     },
     "execution_count": 3,
     "metadata": {},
     "output_type": "execute_result"
    }
   ],
   "source": [
    "import scala.collection.immutable.ListMap\n",
    "\n",
    "val brandsFrequencyLow = amostras.groupBy(_.brand).mapValues(_.size).toSeq.sortBy(_._2)\n",
    "val brandsFrequencyHigh = amostras.groupBy(_.brand).mapValues(_.size).toSeq.sortWith(_._2 > _._2)\n",
    "//minby e maxby depois\n"
   ]
  },
  {
   "cell_type": "markdown",
   "metadata": {},
   "source": [
    "### 3 - Compute a média e desvio padrão da frequência das marcas de produtos"
   ]
  },
  {
   "cell_type": "code",
   "execution_count": 4,
   "metadata": {},
   "outputs": [
    {
     "data": {
      "text/plain": [
       "\u001b[36mlen\u001b[39m: \u001b[32mInt\u001b[39m = \u001b[32m3144\u001b[39m\n",
       "\u001b[36mmean\u001b[39m: \u001b[32mDouble\u001b[39m = \u001b[32m3.1806615776081424\u001b[39m\n",
       "\u001b[36mvariance\u001b[39m: \u001b[32mDouble\u001b[39m = \u001b[32m277.90820108903256\u001b[39m"
      ]
     },
     "execution_count": 4,
     "metadata": {},
     "output_type": "execute_result"
    }
   ],
   "source": [
    "val len: Int = brandsFrequencyLow.size\n",
    "val mean: Double = amostras.size / numberBrands.toDouble\n",
    "var variance: Double = (brandsFrequencyLow.map(x => (x._2 - mean)*(x._2 - mean))).reduce(_+_)\n",
    "// var variance: Double = listVariance.reduce(_+_)\n",
    "variance = variance/len"
   ]
  },
  {
   "cell_type": "markdown",
   "metadata": {},
   "source": [
    "### 4 - Quais os ingredientes que aparecem nos produtos? Mostre quantos são, os que mais aparecem e os que menos aparecem."
   ]
  },
  {
   "cell_type": "code",
   "execution_count": 4,
   "metadata": {},
   "outputs": [],
   "source": [
    "// val ingredientsList = amostras.groupBy(_.ingredients).keys.map(x=>x.replaceAll(\"(\\\\(|\\\\[).*?(\\\\)|\\\\])\", \"\"))"
   ]
  },
  {
   "cell_type": "code",
   "execution_count": 5,
   "metadata": {},
   "outputs": [
    {
     "data": {
      "text/plain": [
       "\u001b[36mingredientsList\u001b[39m: \u001b[32mcollection\u001b[39m.\u001b[32mimmutable\u001b[39m.\u001b[32mSeq\u001b[39m[\u001b[32mString\u001b[39m] = \u001b[33mList\u001b[39m(\n",
       "  \u001b[32m\"wheat flour. animal fat. starch.\"\u001b[39m,\n",
       "  \u001b[32m\"Pistachio paste \"\u001b[39m,\n",
       "  \u001b[32m\"vegetable oil \"\u001b[39m,\n",
       "  \u001b[32m\" fat\"\u001b[39m,\n",
       "  \u001b[32m\"oil \"\u001b[39m,\n",
       "  \u001b[32m\"powdered skimmed milk\"\u001b[39m,\n",
       "  \u001b[32m\"whey powder\"\u001b[39m,\n",
       "  \u001b[32m\"emulsifyng agent\"\u001b[39m,\n",
       "  \u001b[32m\"flavouring \"\u001b[39m,\n",
       "  \u001b[32m\"Produced in a factory using other shell fruit\"\u001b[39m,\n",
       "  \u001b[32m\"Corn Masa Flour\"\u001b[39m,\n",
       "\u001b[33m...\u001b[39m\n",
       "\u001b[36mnumberIngredients\u001b[39m: \u001b[32mInt\u001b[39m = \u001b[32m118268\u001b[39m\n",
       "\u001b[32mimport \u001b[39m\u001b[36mscala.collection.immutable.ListMap\n",
       "\n",
       "\u001b[39m\n",
       "\u001b[36mingredientsFrequencyLow\u001b[39m: \u001b[32mSeq\u001b[39m[(\u001b[32mString\u001b[39m, \u001b[32mInt\u001b[39m)] = \u001b[33mArrayBuffer\u001b[39m(\n",
       "  (\u001b[32m\". Contains 2 or Less of: Modified Corn Starch\"\u001b[39m, \u001b[32m1\u001b[39m),\n",
       "  (\u001b[32m\" Portabella Mushrooms\"\u001b[39m, \u001b[32m1\u001b[39m),\n",
       "  (\u001b[32m\"SODIUM ASCORBATE \"\u001b[39m, \u001b[32m1\u001b[39m),\n",
       "  (\u001b[32m\"Lemon Balm Leaf \"\u001b[39m, \u001b[32m1\u001b[39m),\n",
       "  (\u001b[32m\" Organic Vanilla** \"\u001b[39m, \u001b[32m1\u001b[39m),\n",
       "  (\u001b[32m\"Less Than 2 Silicon Dioxide To Prevent Caking.\"\u001b[39m, \u001b[32m1\u001b[39m),\n",
       "  (\u001b[32m\" organic German chamomile flower.\"\u001b[39m, \u001b[32m1\u001b[39m),\n",
       "  (\u001b[32m\" Partially Hydrogenated Palm Oil\"\u001b[39m, \u001b[32m1\u001b[39m),\n",
       "  (\u001b[32m\"CHOCOLATE CHIPS \"\u001b[39m, \u001b[32m1\u001b[39m),\n",
       "  (\u001b[32m\" tomato paste\"\u001b[39m, \u001b[32m1\u001b[39m),\n",
       "  (\u001b[32m\" Anise Oil\"\u001b[39m, \u001b[32m1\u001b[39m),\n",
       "\u001b[33m...\u001b[39m\n",
       "\u001b[36mingredientsFrequencyHigh\u001b[39m: \u001b[32mSeq\u001b[39m[(\u001b[32mString\u001b[39m, \u001b[32mInt\u001b[39m)] = \u001b[33mArrayBuffer\u001b[39m(\n",
       "  (\u001b[32m\"Sugar\"\u001b[39m, \u001b[32m2700\u001b[39m),\n",
       "  (\u001b[32m\"Salt\"\u001b[39m, \u001b[32m2599\u001b[39m),\n",
       "  (\u001b[32m\"Water\"\u001b[39m, \u001b[32m1693\u001b[39m),\n",
       "  (\u001b[32m\"Citric Acid\"\u001b[39m, \u001b[32m1159\u001b[39m),\n",
       "  (\u001b[32m\"\"\u001b[39m, \u001b[32m932\u001b[39m),\n",
       "  (\u001b[32m\"Corn Syrup\"\u001b[39m, \u001b[32m820\u001b[39m),\n",
       "  (\u001b[32m\".\"\u001b[39m, \u001b[32m695\u001b[39m),\n",
       "  (\u001b[32m\"Dextrose\"\u001b[39m, \u001b[32m641\u001b[39m),\n",
       "  (\u001b[32m\"Soy Lecithin\"\u001b[39m, \u001b[32m615\u001b[39m),\n",
       "  (\u001b[32m\"Natural \"\u001b[39m, \u001b[32m572\u001b[39m),\n",
       "  (\u001b[32m\"Natural Flavor\"\u001b[39m, \u001b[32m562\u001b[39m),\n",
       "\u001b[33m...\u001b[39m"
      ]
     },
     "execution_count": 5,
     "metadata": {},
     "output_type": "execute_result"
    }
   ],
   "source": [
    "// acho que esse ingredientsList não tá pegando as coisas direito, pq os dados são todos bagunçados\n",
    "val ingredientsList = amostras.groupBy(_.ingredients).keys.map(x=>x.replaceAll(\"(\\\\(|\\\\[).*?(\\\\)|\\\\])\", \"\")).map(_.split(\",|;|and|.\")).toList.flatten.toSeq\n",
    "val numberIngredients = ingredientsList.size\n",
    "\n",
    "import scala.collection.immutable.ListMap\n",
    "\n",
    "val ingredientsFrequencyLow = ingredientsList.groupBy(identity).mapValues(_.size).toSeq.sortBy(_._2)\n",
    "val ingredientsFrequencyHigh = ingredientsList.groupBy(identity).mapValues(_.size).toSeq.sortWith(_._2 > _._2)"
   ]
  },
  {
   "cell_type": "markdown",
   "metadata": {},
   "source": [
    "### 5 - Compute a média e desvio padrão da frequência dos ingredientes"
   ]
  },
  {
   "cell_type": "code",
   "execution_count": 6,
   "metadata": {},
   "outputs": [
    {
     "data": {
      "text/plain": [
       "\u001b[36mlen\u001b[39m: \u001b[32mInt\u001b[39m = \u001b[32m30081\u001b[39m\n",
       "\u001b[36mmean\u001b[39m: \u001b[32mDouble\u001b[39m = \u001b[32m0.08455372543714276\u001b[39m\n",
       "\u001b[36mvariance\u001b[39m: \u001b[32mDouble\u001b[39m = \u001b[32m963.0731378302081\u001b[39m"
      ]
     },
     "execution_count": 6,
     "metadata": {},
     "output_type": "execute_result"
    }
   ],
   "source": [
    "val len: Int = ingredientsFrequencyLow.size\n",
    "val mean: Double = amostras.size / numberIngredients.toDouble\n",
    "var variance: Double = (ingredientsFrequencyLow.map(x => (x._2 - mean)*(x._2 - mean))).reduce(_+_)\n",
    "variance = variance/len"
   ]
  },
  {
   "cell_type": "markdown",
   "metadata": {},
   "source": [
    "### 6 - Quais os ingredientes mais usados por cada marca? E os menos usados?"
   ]
  },
  {
   "cell_type": "code",
   "execution_count": 21,
   "metadata": {},
   "outputs": [
    {
     "data": {
      "text/plain": [
       "\u001b[36mbrandsMap\u001b[39m: \u001b[32mList\u001b[39m[(\u001b[32mString\u001b[39m, \u001b[32mcollection\u001b[39m.\u001b[32mimmutable\u001b[39m.\u001b[32mSeq\u001b[39m[\u001b[32mString\u001b[39m])] = \u001b[33mList\u001b[39m(\n",
       "  (\n",
       "    \u001b[32m\"ChocZero\"\u001b[39m,\n",
       "    \u001b[33mList\u001b[39m(\n",
       "      \u001b[32m\"Dark Chocolate \"\u001b[39m,\n",
       "      \u001b[32m\" Soluble Corn Fiber\"\u001b[39m,\n",
       "      \u001b[32m\" Sunflower Lecithin\"\u001b[39m,\n",
       "      \u001b[32m\" Monk Fruit Extract\"\u001b[39m,\n",
       "      \u001b[32m\" Madagascar Bourbon Vanilla Beans. May contain milk\"\u001b[39m,\n",
       "      \u001b[32m\" wheat\"\u001b[39m,\n",
       "      \u001b[32m\" soy \"\u001b[39m,\n",
       "      \u001b[32m\" nuts.\"\u001b[39m,\n",
       "\u001b[33m...\u001b[39m"
      ]
     },
     "execution_count": 21,
     "metadata": {},
     "output_type": "execute_result"
    }
   ],
   "source": [
    "// brands\n",
    "// brandsFrequencyLow\n",
    "// var brandsList = amostras.groupBy(_.brand).map(x => x.groupBy(_.ingredients))\n",
    "var brandsMap = amostras.groupBy(_.brand).toList.map(x => (x._1, x._2.groupBy(_.ingredients).keys.map(x=>x.replaceAll(\"(\\\\(|\\\\[).*?(\\\\)|\\\\])\", \"\")).map(_.split(\",|;|and\")).toList.flatten.toSeq))"
   ]
  },
  {
   "cell_type": "code",
   "execution_count": 26,
   "metadata": {},
   "outputs": [
    {
     "data": {
      "text/plain": [
       "\u001b[36mingredientsFrequencyLow\u001b[39m: \u001b[32mList\u001b[39m[(\u001b[32mString\u001b[39m, \u001b[32mSeq\u001b[39m[(\u001b[32mString\u001b[39m, \u001b[32mInt\u001b[39m)])] = \u001b[33mList\u001b[39m(\n",
       "  (\n",
       "    \u001b[32m\"ChocZero\"\u001b[39m,\n",
       "    \u001b[33mArrayBuffer\u001b[39m(\n",
       "      (\u001b[32m\"Madagascar Bourbon Vanilla Beans \"\u001b[39m, \u001b[32m1\u001b[39m),\n",
       "      (\u001b[32m\" Natural Flavor. May contain milk\"\u001b[39m, \u001b[32m1\u001b[39m),\n",
       "      (\u001b[32m\"Madagascar Bourbon Vanilla Beans. Contains milk. May contain wheat\"\u001b[39m, \u001b[32m1\u001b[39m),\n",
       "      (\u001b[32m\"Contains milk. May contain wheat\"\u001b[39m, \u001b[32m1\u001b[39m),\n",
       "      (\u001b[32m\"Madagascar Bourbon Vanilla Beans\"\u001b[39m, \u001b[32m1\u001b[39m),\n",
       "      (\u001b[32m\"Milk Chocolate \"\u001b[39m, \u001b[32m2\u001b[39m),\n",
       "      (\u001b[32m\" Madagascar Bourbon Vanilla Beans\"\u001b[39m, \u001b[32m2\u001b[39m),\n",
       "      (\u001b[32m\"For 70% \"\u001b[39m, \u001b[32m2\u001b[39m),\n",
       "\u001b[33m...\u001b[39m\n",
       "\u001b[36mingredientsFrequencyHigh\u001b[39m: \u001b[32mList\u001b[39m[(\u001b[32mString\u001b[39m, \u001b[32mSeq\u001b[39m[(\u001b[32mString\u001b[39m, \u001b[32mInt\u001b[39m)])] = \u001b[33mList\u001b[39m(\n",
       "  (\n",
       "    \u001b[32m\"ChocZero\"\u001b[39m,\n",
       "    \u001b[33mArrayBuffer\u001b[39m(\n",
       "      (\u001b[32m\" nuts.\"\u001b[39m, \u001b[32m6\u001b[39m),\n",
       "      (\u001b[32m\"soy \"\u001b[39m, \u001b[32m6\u001b[39m),\n",
       "      (\u001b[32m\" Soluble Corn Fiber\"\u001b[39m, \u001b[32m5\u001b[39m),\n",
       "      (\u001b[32m\"Sunflower Lecithin\"\u001b[39m, \u001b[32m5\u001b[39m),\n",
       "      (\u001b[32m\" soy \"\u001b[39m, \u001b[32m5\u001b[39m),\n",
       "      (\u001b[32m\"Dark Chocolate \"\u001b[39m, \u001b[32m5\u001b[39m),\n",
       "      (\u001b[32m\"Monk Fruit Extract\"\u001b[39m, \u001b[32m5\u001b[39m),\n",
       "      (\u001b[32m\" Sunflower Lecithin\"\u001b[39m, \u001b[32m5\u001b[39m),\n",
       "\u001b[33m...\u001b[39m"
      ]
     },
     "execution_count": 26,
     "metadata": {},
     "output_type": "execute_result"
    }
   ],
   "source": [
    "val ingredientsFrequencyLow = brandsMap.map(x => (x._1, x._2.groupBy(identity).mapValues(_.size).toSeq.sortBy(_._2)))\n",
    "val ingredientsFrequencyHigh = brandsMap.map(x => (x._1, x._2.groupBy(identity).mapValues(_.size).toSeq.sortWith(_._2 > _._2)))"
   ]
  },
  {
   "cell_type": "markdown",
   "metadata": {},
   "source": [
    "### 7 - Compute alguma informação não demandada pelas questões anteriores e justifique o porquê que tal informação é útil"
   ]
  },
  {
   "cell_type": "code",
   "execution_count": 46,
   "metadata": {
    "collapsed": true
   },
   "outputs": [
    {
     "data": {
      "text/plain": [
       "\u001b[36mcategories\u001b[39m: \u001b[32mcollection\u001b[39m.\u001b[32mimmutable\u001b[39m.\u001b[32mSeq\u001b[39m[\u001b[32mString\u001b[39m] = \u001b[33mList\u001b[39m(\n",
       "  \u001b[32m\"Grocery & Gourmet Food\"\u001b[39m,\n",
       "  \u001b[32m\"Cooking & Baking\"\u001b[39m,\n",
       "  \u001b[32m\"Baking Mixes\"\u001b[39m,\n",
       "  \u001b[32m\"Muffins\"\u001b[39m,\n",
       "  \u001b[32m\"Fruit Butters\"\u001b[39m,\n",
       "  \u001b[32m\"Food\"\u001b[39m,\n",
       "  \u001b[32m\"Coffee\"\u001b[39m,\n",
       "  \u001b[32m\"Ready to Drink Coffee\"\u001b[39m,\n",
       "  \u001b[32m\"Grocery\"\u001b[39m,\n",
       "  \u001b[32m\"Food\"\u001b[39m,\n",
       "  \u001b[32m\"Rice Cakes\"\u001b[39m,\n",
       "  \u001b[32m\"Grocery\"\u001b[39m,\n",
       "  \u001b[32m\"Grocery & Gourmet Food\"\u001b[39m,\n",
       "  \u001b[32m\"Cooking & Baking\"\u001b[39m,\n",
       "  \u001b[32m\"Syrups\"\u001b[39m,\n",
       "  \u001b[32m\" Sugars & Sweeteners\"\u001b[39m,\n",
       "  \u001b[32m\"Molasses\"\u001b[39m,\n",
       "  \u001b[32m\"grocery\"\u001b[39m,\n",
       "  \u001b[32m\"Grocery & Gourmet Food\"\u001b[39m,\n",
       "  \u001b[32m\"Snack Foods\"\u001b[39m,\n",
       "  \u001b[32m\"Seaweed Snacks\"\u001b[39m,\n",
       "  \u001b[32m\"grocery\"\u001b[39m,\n",
       "  \u001b[32m\"Home & Garden\"\u001b[39m,\n",
       "  \u001b[32m\"Food & Beverages\"\u001b[39m,\n",
       "  \u001b[32m\"Tea\"\u001b[39m,\n",
       "  \u001b[32m\"Grocery\"\u001b[39m,\n",
       "  \u001b[32m\"Green\"\u001b[39m,\n",
       "  \u001b[32m\"Beverages\"\u001b[39m,\n",
       "  \u001b[32m\"Food\"\u001b[39m,\n",
       "  \u001b[32m\"Featured Brands\"\u001b[39m,\n",
       "  \u001b[32m\"Grocery\"\u001b[39m,\n",
       "  \u001b[32m\"Nestle\"\u001b[39m,\n",
       "  \u001b[32m\"Food & Beverage\"\u001b[39m,\n",
       "  \u001b[32m\"Beverages\"\u001b[39m,\n",
       "  \u001b[32m\"Water\"\u001b[39m,\n",
       "  \u001b[32m\"Food\"\u001b[39m,\n",
       "  \u001b[32m\"Grocery & Gourmet Food\"\u001b[39m,\n",
       "  \u001b[32m\"Bottled Beverages\"\u001b[39m,\n",
       "...\n",
       "\u001b[36mbiggestCategories\u001b[39m: \u001b[32mSeq\u001b[39m[(\u001b[32mString\u001b[39m, \u001b[32mInt\u001b[39m)] = \u001b[33mVector\u001b[39m(\n",
       "  (\u001b[32m\"Food\"\u001b[39m, \u001b[32m3163\u001b[39m),\n",
       "  (\u001b[32m\"Grocery & Gourmet Food\"\u001b[39m, \u001b[32m2337\u001b[39m),\n",
       "  (\u001b[32m\"Grocery\"\u001b[39m, \u001b[32m2023\u001b[39m),\n",
       "  (\u001b[32m\"Food & Grocery\"\u001b[39m, \u001b[32m741\u001b[39m),\n",
       "  (\u001b[32m\"Food & Beverage\"\u001b[39m, \u001b[32m726\u001b[39m),\n",
       "  (\u001b[32m\"Beverages\"\u001b[39m, \u001b[32m704\u001b[39m),\n",
       "  (\u001b[32m\"grocery\"\u001b[39m, \u001b[32m683\u001b[39m),\n",
       "  (\u001b[32m\"Snacks\"\u001b[39m, \u001b[32m578\u001b[39m),\n",
       "  (\u001b[32m\"Coffee\"\u001b[39m, \u001b[32m521\u001b[39m),\n",
       "  (\u001b[32m\"Snack Foods\"\u001b[39m, \u001b[32m503\u001b[39m),\n",
       "  (\u001b[32m\" Cookies & Chips\"\u001b[39m, \u001b[32m379\u001b[39m),\n",
       "  (\u001b[32m\"Cookies\"\u001b[39m, \u001b[32m357\u001b[39m),\n",
       "  (\u001b[32m\"Fresh Food\"\u001b[39m, \u001b[32m353\u001b[39m),\n",
       "  (\u001b[32m\"Cooking & Baking\"\u001b[39m, \u001b[32m324\u001b[39m),\n",
       "  (\u001b[32m\"Baking\"\u001b[39m, \u001b[32m303\u001b[39m),\n",
       "  (\u001b[32m\"Meal Solutions\"\u001b[39m, \u001b[32m295\u001b[39m),\n",
       "  (\u001b[32m\" Grains & Pasta\"\u001b[39m, \u001b[32m295\u001b[39m),\n",
       "  (\u001b[32m\"Home & Garden\"\u001b[39m, \u001b[32m266\u001b[39m),\n",
       "  (\u001b[32m\"Food & Beverages\"\u001b[39m, \u001b[32m261\u001b[39m),\n",
       "  (\u001b[32m\"Tea\"\u001b[39m, \u001b[32m254\u001b[39m),\n",
       "  (\u001b[32m\" Tea & Cocoa\"\u001b[39m, \u001b[32m242\u001b[39m),\n",
       "  (\u001b[32m\"Candy & Chocolate\"\u001b[39m, \u001b[32m239\u001b[39m),\n",
       "  (\u001b[32m\"Crackers\"\u001b[39m, \u001b[32m205\u001b[39m),\n",
       "  (\u001b[32m\"Candy & Gum\"\u001b[39m, \u001b[32m202\u001b[39m),\n",
       "  (\u001b[32m\"General Grocery\"\u001b[39m, \u001b[32m197\u001b[39m),\n",
       "  (\u001b[32m\"Breakfast Foods\"\u001b[39m, \u001b[32m197\u001b[39m),\n",
       "  (\u001b[32m\"Other Grocery\"\u001b[39m, \u001b[32m187\u001b[39m),\n",
       "  (\u001b[32m\"Chocolate\"\u001b[39m, \u001b[32m171\u001b[39m),\n",
       "  (\u001b[32m\"Soups\"\u001b[39m, \u001b[32m160\u001b[39m),\n",
       "  (\u001b[32m\"Condiments\"\u001b[39m, \u001b[32m146\u001b[39m),\n",
       "  (\u001b[32m\"Dairy\"\u001b[39m, \u001b[32m132\u001b[39m),\n",
       "  (\u001b[32m\"Breakfast & Cereal\"\u001b[39m, \u001b[32m131\u001b[39m),\n",
       "  (\u001b[32m\"Featured Brands\"\u001b[39m, \u001b[32m127\u001b[39m),\n",
       "  (\u001b[32m\"Gum & Candy\"\u001b[39m, \u001b[32m127\u001b[39m),\n",
       "  (\u001b[32m\"Sauces\"\u001b[39m, \u001b[32m123\u001b[39m),\n",
       "  (\u001b[32m\"Pasta & Noodles\"\u001b[39m, \u001b[32m123\u001b[39m),\n",
       "  (\u001b[32m\" Chips & Snacks\"\u001b[39m, \u001b[32m120\u001b[39m),\n",
       "  (\u001b[32m\"Baking Mixes\"\u001b[39m, \u001b[32m119\u001b[39m),\n",
       "..."
      ]
     },
     "execution_count": 46,
     "metadata": {},
     "output_type": "execute_result"
    }
   ],
   "source": [
    "//Maiores categorias.\n",
    "val categories = amostras.groupBy(_.categories).keys.map(_.split(\",\")).toList.flatten.toSeq\n",
    "val biggestCategories = categories.groupBy(identity).mapValues(_.size).toSeq.sortWith(_._2 > _._2)"
   ]
  },
  {
   "cell_type": "code",
   "execution_count": 43,
   "metadata": {},
   "outputs": [],
   "source": [
    "// testando comandos e funções\n",
    "// var a: Double = brandsFrequencyLow(0)._2 + brandsFrequencyLow(1)._2\n",
    "// // brandsFrequencyLow.length\n",
    "// // brandsFrequencyLow(0)._2\n",
    "// // val (name, qnt) = brandsFrequencyLow(0)\n",
    "// // name\n",
    "// // amostras.flatMap(a => print(a))\n",
    "// var variance: Double = 1.0\n",
    "// for(i <- 0 to brandsFrequencyLow.length){\n",
    "//     variance = variance + variance\n",
    "// }\n",
    "// variance\n",
    "\n",
    "// def variance(amos: Seq[Amostra], mean: Double): Double = {\n",
    "//     var variance: Double = 0.0\n",
    "//     for(i <- 0 to brandsFrequencyLow.length){\n",
    "//         variance = variance + ((brandsFrequencyLow(i)._2 - mean)*(brandsFrequencyLow(i)._2 - mean))\n",
    "//     }\n",
    "//     return variance\n",
    "// }\n",
    "\n",
    "// var vari = variance(amostras.toSeq, mean) \n",
    "// object MyObject{\n",
    "//     implicit class MyImplicitClass(val number:Int) extends AnyVal {\n",
    "//         def pow(elevation: Int): Int = number * elavation\n",
    "//     }\n",
    "// }\n",
    "// a.pow()\n",
    "// https://stackoverflow.com/questions/28772780/scala-how-do-i-calculate-the-variance-of-a-seqdouble-using-flatmap-and-option"
   ]
  }
 ],
 "metadata": {
  "kernelspec": {
   "display_name": "Scala 2.10",
   "language": "scala210",
   "name": "scala210"
  },
  "language_info": {
   "codemirror_mode": "text/x-scala",
   "file_extension": ".scala",
   "mimetype": "text/x-scala",
   "name": "scala211",
   "nbconvert_exporter": "script",
   "pygments_lexer": "scala",
   "version": "2.11.11"
  }
 },
 "nbformat": 4,
 "nbformat_minor": 2
}
