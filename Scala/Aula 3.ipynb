{
 "cells": [
  {
   "cell_type": "markdown",
   "metadata": {},
   "source": [
    "# Aula 3\n",
    "---\n",
    "\n",
    "Essa aula é um desafio para por em prova seus conhecimentos em Scala! Para resolvê-lo, você deverar utilizar o que foi apresentado nas últimas aulas E consultar materiais complementares(stack overflow) para aprender ainda mais em um cenário prático!"
   ]
  },
  {
   "cell_type": "markdown",
   "metadata": {},
   "source": [
    "## Baixando o dataset\n",
    "\n",
    "O dataset desta atividade foi tirado do Kaggle e chama-se [Food Ingredient List](https://www.kaggle.com/datafiniti/food-ingredient-lists/version/1#). Ele contém os ingredientes presentes em 10000 produtos encontrados em supermercados. Para mais informações, visite a [página do dataset](https://www.kaggle.com/datafiniti/food-ingredient-lists/version/1#).\n",
    "\n",
    "O código abaixo faz o download do dataset para o diretório atual deste notebook."
   ]
  },
  {
   "cell_type": "markdown",
   "metadata": {},
   "source": [
    "## Processando o dataset\n",
    "\n",
    "Para simplificar o desafio (pois já há muita coisa difícil para se fazer) o dataset foi mapeado para TSV. As informações estão separadas por **tabulações** (caractere \\t). Processe-o e armazene-o da maneira que achar mais conveniente"
   ]
  },
  {
   "cell_type": "code",
   "execution_count": null,
   "metadata": {},
   "outputs": [],
   "source": [
    "//importando o objeto Source, que auxilia na manipulação de arquivos\n",
    "import scala.io.Source\n",
    "\n",
    "case class Amostra(id: String, asins: String, brand: String, ingredients: String)\n",
    "\n",
    "val lines = Source.fromFile(\"ingredients.tsv\").getLines.drop(1)\n",
    "\n",
    "//utilize o método split(c) para dividir uma String, separando-as pelo caractere c\n",
    "val amostras = lines\n",
    "    //separando os valores por tabulação\n",
    "    .map(_.split(\"\\t\"))\n",
    "    .map(l => Amostra(l.head, l(1), l(2), l(8)))\n",
    "    .toList\n",
    "\n",
    "//agrupando as amostras pela classe\n",
    "// val amostrasAgrupadas = amostras\n",
    "//     .groupBy(_.c)\n",
    "\n",
    "// //definindo função que calcula a média de uma sequência de Doubles\n",
    "// def mean(values: Seq[Double]): Double = values.sum / values.length\n",
    "\n",
    "// //para cada classe e suas amostras, calcular a média de cada um dos 4 atributos\n",
    "// for((c,amostras) <- amostrasAgrupadas){\n",
    "//     println(s\"Analisando classe $c...\")\n",
    "//     val slMedia = mean(amostras.map(_.sl))\n",
    "//     println(s\"Media do comprimento da sépala: $slMedia\")\n",
    "//     val swMedia = mean(amostras.map(_.sw))\n",
    "//     println(s\"Media da largura da sépala: $swMedia\")\n",
    "//     val plMedia = mean(amostras.map(_.pl))\n",
    "//     println(s\"Media do comprimento da pétala: $plMedia\")\n",
    "//     val pwMedia = mean(amostras.map(_.pw))\n",
    "//     println(s\"Media da largura da pétala: $pwMedia\")\n",
    "//     println(\"-------------------\")\n",
    "// }\n"
   ]
  },
  {
   "cell_type": "markdown",
   "metadata": {},
   "source": [
    "## Demandas\n",
    "---"
   ]
  },
  {
   "cell_type": "markdown",
   "metadata": {},
   "source": [
    "### 1 - Quantas e quais as marcas de produtos contidas no dataset?"
   ]
  },
  {
   "cell_type": "code",
   "execution_count": null,
   "metadata": {},
   "outputs": [],
   "source": [
    "val brands = amostras.groupBy(_.brand).keys\n",
    "val numberBrands = amostras.groupBy(_.brand).size"
   ]
  },
  {
   "cell_type": "markdown",
   "metadata": {},
   "source": [
    "### 2 - Quais as marcas que aparecem mais no dataset? Quais aparecem menos?"
   ]
  },
  {
   "cell_type": "code",
   "execution_count": 13,
   "metadata": {},
   "outputs": [
    {
     "data": {
      "text/plain": [
       "\u001b[32mimport \u001b[39m\u001b[36mscala.collection.immutable.ListMap\n",
       "\n",
       "\u001b[39m\n",
       "\u001b[36mbrandsFrequencyLow\u001b[39m: \u001b[32mSeq\u001b[39m[(\u001b[32mString\u001b[39m, \u001b[32mInt\u001b[39m)] = \u001b[33mArrayBuffer\u001b[39m(\n",
       "  (\u001b[32m\"WarHeads\"\u001b[39m, \u001b[32m1\u001b[39m),\n",
       "  (\u001b[32m\"Pappy's\"\u001b[39m, \u001b[32m1\u001b[39m),\n",
       "  (\u001b[32m\"Yum Earth\"\u001b[39m, \u001b[32m1\u001b[39m),\n",
       "  (\u001b[32m\"DaVinci\"\u001b[39m, \u001b[32m1\u001b[39m),\n",
       "  (\u001b[32m\"Mike's Popcorn\"\u001b[39m, \u001b[32m1\u001b[39m),\n",
       "  (\u001b[32m\"Mokulele Farms\"\u001b[39m, \u001b[32m1\u001b[39m),\n",
       "  (\u001b[32m\"KAY'S NATURAL\"\u001b[39m, \u001b[32m1\u001b[39m),\n",
       "  (\u001b[32m\"Bella Viva Dried Fruit\"\u001b[39m, \u001b[32m1\u001b[39m),\n",
       "  (\u001b[32m\"CAFE DU MOND\"\u001b[39m, \u001b[32m1\u001b[39m),\n",
       "  (\u001b[32m\"Caramel Creams\"\u001b[39m, \u001b[32m1\u001b[39m),\n",
       "  (\u001b[32m\"Bear Creek\"\u001b[39m, \u001b[32m1\u001b[39m),\n",
       "\u001b[33m...\u001b[39m\n",
       "\u001b[36mbrandsFrequencyHigh\u001b[39m: \u001b[32mSeq\u001b[39m[(\u001b[32mString\u001b[39m, \u001b[32mInt\u001b[39m)] = \u001b[33mArrayBuffer\u001b[39m(\n",
       "  (\u001b[32m\"\"\u001b[39m, \u001b[32m886\u001b[39m),\n",
       "  (\u001b[32m\"Goya Food\"\u001b[39m, \u001b[32m77\u001b[39m),\n",
       "  (\u001b[32m\"CVS Gold Emblem\"\u001b[39m, \u001b[32m75\u001b[39m),\n",
       "  (\u001b[32m\"Roland\"\u001b[39m, \u001b[32m75\u001b[39m),\n",
       "  (\u001b[32m\"Bob's Red Mill\"\u001b[39m, \u001b[32m71\u001b[39m),\n",
       "  (\u001b[32m\"Smart Sense\"\u001b[39m, \u001b[32m70\u001b[39m),\n",
       "  (\u001b[32m\"Betty Crocker\"\u001b[39m, \u001b[32m61\u001b[39m),\n",
       "  (\u001b[32m\"McCormick\"\u001b[39m, \u001b[32m56\u001b[39m),\n",
       "  (\u001b[32m\"Kellogg's\"\u001b[39m, \u001b[32m53\u001b[39m),\n",
       "  (\u001b[32m\"Utz\"\u001b[39m, \u001b[32m51\u001b[39m),\n",
       "  (\u001b[32m\"Black Tie Mercantile\"\u001b[39m, \u001b[32m51\u001b[39m),\n",
       "\u001b[33m...\u001b[39m"
      ]
     },
     "execution_count": 13,
     "metadata": {},
     "output_type": "execute_result"
    }
   ],
   "source": [
    "import scala.collection.immutable.ListMap\n",
    "\n",
    "val brandsFrequencyLow = amostras.groupBy(_.brand).mapValues(_.size).toSeq.sortBy(_._2)\n",
    "val brandsFrequencyHigh = amostras.groupBy(_.brand).mapValues(_.size).toSeq.sortWith(_._2 > _._2)\n",
    "//minby e maxby depois\n"
   ]
  },
  {
   "cell_type": "code",
   "execution_count": 39,
   "metadata": {},
   "outputs": [
    {
     "data": {
      "text/plain": [
       "\u001b[36mvariance\u001b[39m: \u001b[32mDouble\u001b[39m = \u001b[32mInfinity\u001b[39m\n",
       "\u001b[36mres38_2\u001b[39m: \u001b[32mDouble\u001b[39m = \u001b[32mInfinity\u001b[39m"
      ]
     },
     "execution_count": 39,
     "metadata": {},
     "output_type": "execute_result"
    }
   ],
   "source": [
    "// var a: Double = brandsFrequencyLow(0)._2 + brandsFrequencyLow(1)._2\n",
    "// // brandsFrequencyLow.length\n",
    "// // brandsFrequencyLow(0)._2\n",
    "// // val (name, qnt) = brandsFrequencyLow(0)\n",
    "// // name\n",
    "// // amostras.flatMap(a => print(a))\n",
    "// var variance: Double = 1.0\n",
    "// for(i <- 0 to brandsFrequencyLow.length){\n",
    "//     variance = variance + variance\n",
    "// }\n",
    "// variance\n",
    "\n",
    "// def variance(amos: Seq[Amostra], mean: Double): Double = {\n",
    "//     var variance: Double = 0.0\n",
    "//     for(i <- 0 to brandsFrequencyLow.length){\n",
    "//         variance = variance + ((brandsFrequencyLow(i)._2 - mean)*(brandsFrequencyLow(i)._2 - mean))\n",
    "//     }\n",
    "//     return variance\n",
    "// }\n",
    "\n",
    "// var vari = variance(amostras.toSeq, mean) \n",
    "// object MyObject{\n",
    "//     implicit class MyImplicitClass(val number:Int) extends AnyVal {\n",
    "//         def pow(elevation: Int): Int = number * elavation\n",
    "//     }\n",
    "// }\n",
    "// a.pow()\n",
    "// https://stackoverflow.com/questions/28772780/scala-how-do-i-calculate-the-variance-of-a-seqdouble-using-flatmap-and-option"
   ]
  },
  {
   "cell_type": "markdown",
   "metadata": {},
   "source": [
    "### 3 - Compute a média e desvio padrão da frequência das marcas de produtos"
   ]
  },
  {
   "cell_type": "code",
   "execution_count": 47,
   "metadata": {},
   "outputs": [
    {
     "data": {
      "text/plain": [
       "\u001b[36mlen\u001b[39m: \u001b[32mInt\u001b[39m = \u001b[32m3144\u001b[39m\n",
       "\u001b[36mmean\u001b[39m: \u001b[32mDouble\u001b[39m = \u001b[32m3.1806615776081424\u001b[39m\n",
       "\u001b[36mvariance\u001b[39m: \u001b[32mDouble\u001b[39m = \u001b[32m277.90820108903256\u001b[39m"
      ]
     },
     "execution_count": 47,
     "metadata": {},
     "output_type": "execute_result"
    }
   ],
   "source": [
    "val len: Int = brandsFrequencyLow.size\n",
    "val mean: Double = amostras.size / numberBrands.toDouble\n",
    "var variance: Double = (brandsFrequencyLow.map(x => (x._2 - mean)*(x._2 - mean))).reduce(_+_)\n",
    "// var variance: Double = listVariance.reduce(_+_)\n",
    "variance = variance/len"
   ]
  },
  {
   "cell_type": "markdown",
   "metadata": {},
   "source": [
    "### 4 - Quais os ingredientes que aparecem nos produtos? Mostre quantos são, os que mais aparecem e os que menos aparecem."
   ]
  },
  {
   "cell_type": "code",
   "execution_count": null,
   "metadata": {},
   "outputs": [],
   "source": []
  },
  {
   "cell_type": "markdown",
   "metadata": {},
   "source": [
    "### 5 - Compute a média e desvio padrão da frequência dos ingredientes"
   ]
  },
  {
   "cell_type": "code",
   "execution_count": null,
   "metadata": {},
   "outputs": [],
   "source": []
  },
  {
   "cell_type": "markdown",
   "metadata": {},
   "source": [
    "### 6 - Quais os ingredientes mais usados por cada marca? E os menos usados?"
   ]
  },
  {
   "cell_type": "code",
   "execution_count": null,
   "metadata": {},
   "outputs": [],
   "source": []
  },
  {
   "cell_type": "markdown",
   "metadata": {},
   "source": [
    "### 7 - Compute alguma informação não demandada pelas questões anteriores e justifique o porquê que tal informação é útil"
   ]
  },
  {
   "cell_type": "code",
   "execution_count": null,
   "metadata": {},
   "outputs": [],
   "source": []
  }
 ],
 "metadata": {
  "kernelspec": {
   "display_name": "Scala 2.10",
   "language": "scala210",
   "name": "scala210"
  },
  "language_info": {
   "codemirror_mode": "text/x-scala",
   "file_extension": "scala",
   "mimetype": "text/x-scala",
   "name": "scala210",
   "pygments_lexer": "scala",
   "version": "2.10.5"
  }
 },
 "nbformat": 4,
 "nbformat_minor": 2
}
