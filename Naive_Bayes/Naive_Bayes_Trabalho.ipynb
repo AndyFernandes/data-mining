{
 "cells": [
  {
   "cell_type": "markdown",
   "metadata": {},
   "source": [
    "# Naive Bayes - Trabalho\n",
    "\n",
    "## Questão 1\n",
    "\n",
    "Implemente um classifacor Naive Bayes para o problema de predizer a qualidade de um carro. Para este fim, utilizaremos um conjunto de dados referente a qualidade de carros, disponível no [UCI](https://archive.ics.uci.edu/ml/datasets/car+evaluation). Este dataset de carros possui as seguintes features e classe:\n",
    "\n",
    "** Attributos **\n",
    "1. buying: vhigh, high, med, low\n",
    "2. maint: vhigh, high, med, low\n",
    "3. doors: 2, 3, 4, 5, more\n",
    "4. persons: 2, 4, more\n",
    "5. lug_boot: small, med, big\n",
    "6. safety: low, med, high\n",
    "\n",
    "** Classes **\n",
    "1. unacc, acc, good, vgood\n",
    "\n",
    "## Questão 2\n",
    "Crie uma versão de sua implementação usando as funções disponíveis na biblioteca SciKitLearn para o Naive Bayes ([veja aqui](http://scikit-learn.org/stable/modules/naive_bayes.html)) \n",
    "\n",
    "## Questão 3\n",
    "\n",
    "Analise a acurácia dos dois algoritmos e discuta a sua solução."
   ]
  },
  {
   "cell_type": "markdown",
   "metadata": {
    "collapsed": true
   },
   "source": [
    "# Resolução\n",
    "\n",
    "## Questão 1\n",
    "\n",
    "\n",
    "1. Categorizar os dados\n",
    "2. Conjunto de dados de treino e teste\n",
    "3. Sumarização das classes\n",
    "4. Cálculo da probabilidade\n",
    "5. Predição\n",
    "6. Acurácia"
   ]
  },
  {
   "cell_type": "code",
   "execution_count": 34,
   "metadata": {},
   "outputs": [],
   "source": [
    "import pandas as pd\n",
    "\n",
    "dataset = pd.read_csv(\"carData.csv\", names=[\"buying\", \"maint\", \"doors\", \"persons\", \"lug_boot\", \"safety\", \"unacc\"])\n",
    "\n",
    "#map_columns_values = {}\n",
    "for feature in [\"buying\", \"maint\", \"doors\", \"persons\", \"lug_boot\", \"safety\", \"unacc\"]:\n",
    "    #map_columns_values[feature] = {}\n",
    "    dataset[feature] = dataset[feature].astype('category')\n",
    "    #a = dataset[feature]\n",
    "    #map_columns_values[feature][a] = dataset[feature].cat.codes\n",
    "    dataset[feature] = dataset[feature].cat.codes"
   ]
  },
  {
   "cell_type": "code",
   "execution_count": 37,
   "metadata": {},
   "outputs": [],
   "source": [
    "import pandas as pd\n",
    "\n",
    "class NaiveBayes:\n",
    "    sum_classes = {}\n",
    "    \n",
    "    def __init__(self, filename):\n",
    "        self.dataset = pd.read_csv(filename, names=[\"buying\", \"maint\", \"doors\", \"persons\", \"lug_boot\", \"safety\", \"unacc\"])\n",
    "    \n",
    "    def categorizationData(self):\n",
    "        for feature in [\"buying\", \"maint\", \"doors\", \"persons\", \"lug_boot\", \"safety\", \"unacc\"]:\n",
    "            self.dataset[feature] = self.dataset[feature].astype('category')\n",
    "            self.dataset[feature] = self.dataset[feature].cat.codes\n",
    "        \n",
    "    def splitData(self, percent):\n",
    "        trainSize = int(len(dataset) * percent)\n",
    "        trainSet = []\n",
    "        testSet = list(self.dataset)\n",
    "        while len(trainSet) < trainSize:\n",
    "            index = random.randrange(len(copy))\n",
    "            trainSet.append(testSet.pop(index))\n",
    "        return [trainSet, testSet]\n",
    "    \n",
    "    def separetedClasses(self):\n",
    "        return 0\n",
    "    \n",
    "    def summarizeClasses(self):\n",
    "        return 0\n",
    "    \n",
    "    def prediction(self):\n",
    "        return 0\n",
    "    \n",
    "    def comparePredictions(self):\n",
    "        return 0\n",
    "    \n",
    "    def accuracy(self):\n",
    "        return 0"
   ]
  },
  {
   "cell_type": "markdown",
   "metadata": {},
   "source": [
    "# Questão 2"
   ]
  },
  {
   "cell_type": "code",
   "execution_count": 41,
   "metadata": {},
   "outputs": [
    {
     "name": "stdout",
     "output_type": "stream",
     "text": [
      "0.8670520231213873\n",
      "[0.83032491 0.85920578 0.81521739 0.86956522 0.82246377]\n"
     ]
    }
   ],
   "source": [
    "from sklearn.model_selection import train_test_split\n",
    "from sklearn.neighbors import KNeighborsClassifier\n",
    "from sklearn.metrics import accuracy_score\n",
    "from sklearn.model_selection import KFold, cross_val_score\n",
    "import numpy as np\n",
    "\n",
    "# procurar quais as versões pro naive bayes\n",
    "# https://scikit-learn.org/stable/modules/classes.html > Naive Bayes\n",
    "\n",
    "file = pd.read_csv(\"carData.csv\", names=[\"buying\", \"maint\", \"doors\", \"persons\", \"lug_boot\", \"safety\", \"unacc\"])\n",
    "for feature in [\"buying\", \"maint\", \"doors\", \"persons\", \"lug_boot\", \"safety\", \"unacc\"]:\n",
    "    file[feature] = file[feature].astype('category')\n",
    "    file[feature] = file[feature].cat.codes\n",
    "X = file.loc[:, [\"buying\", \"maint\", \"doors\", \"persons\", \"lug_boot\", \"safety\"]]\n",
    "Y = file.loc[:, [\"unacc\"]]\n",
    "\n",
    "# Separação do dataset\n",
    "# Treino (80%) / Teste (20%)\n",
    "X_train, X_test, Y_train, Y_test = train_test_split(X, Y.values.flatten(),train_size = 0.8, test_size = 0.2, random_state = 42)\n",
    "# importando bibliotecas\n",
    "\n",
    "\n",
    "#instanciando o modelo de aprendizado com k = 3\n",
    "knn = KNeighborsClassifier(n_neighbors = 3, metric='euclidean')\n",
    "\n",
    "# treinando o modelo com os conjuntos de treino\n",
    "knn.fit(X_train, Y_train)\n",
    "\n",
    "# realizando a predicao\n",
    "pred = knn.predict(X_test)\n",
    "acc = accuracy_score(Y_test, pred)\n",
    "\n",
    "print(acc)\n",
    "\n",
    "k_fold = KFold(n_splits = 5)\n",
    "scores = cross_val_score(knn, X_train, Y_train, cv = k_fold)\n",
    "\n",
    "print(scores)"
   ]
  },
  {
   "cell_type": "code",
   "execution_count": null,
   "metadata": {},
   "outputs": [],
   "source": []
  }
 ],
 "metadata": {
  "kernelspec": {
   "display_name": "Python 3",
   "language": "python",
   "name": "python3"
  },
  "language_info": {
   "codemirror_mode": {
    "name": "ipython",
    "version": 3
   },
   "file_extension": ".py",
   "mimetype": "text/x-python",
   "name": "python",
   "nbconvert_exporter": "python",
   "pygments_lexer": "ipython3",
   "version": "3.7.1"
  }
 },
 "nbformat": 4,
 "nbformat_minor": 2
}
