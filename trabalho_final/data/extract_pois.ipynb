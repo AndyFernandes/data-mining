{
 "cells": [
  {
   "cell_type": "code",
   "execution_count": 1,
   "metadata": {},
   "outputs": [
    {
     "data": {
      "text/plain": [
       "'0.10'"
      ]
     },
     "execution_count": 1,
     "metadata": {},
     "output_type": "execute_result"
    }
   ],
   "source": [
    "import geopandas as gpd\n",
    "import osmnx as ox\n",
    "import json as js\n",
    "from shapely.geometry import Point, Polygon, MultiPolygon\n",
    "%matplotlib inline\n",
    "ox.config(log_console=True, use_cache=True)\n",
    "ox.__version__\n",
    "\n",
    "\n",
    "# G = ox.graph_from_place('Manhattan Island, New York City, New York, USA', network_type='drive')\n",
    "# ox.plot_graph(G)"
   ]
  },
  {
   "cell_type": "code",
   "execution_count": 20,
   "metadata": {},
   "outputs": [
    {
     "data": {
      "image/png": "[encoded data removed]",
      "text/plain": [
       "<Figure size 216x216 with 1 Axes>"
      ]
     },
     "metadata": {
      "needs_background": "light"
     },
     "output_type": "display_data"
    }
   ],
   "source": [
    "city = ox.gdf_from_place('Fortaleza, Ceará, Brasil')\n",
    "# ox.save_gdf_shapefile(city)\n",
    "# city = ox.project_gdf(city)\n",
    "fig, ax = ox.plot_shape(city, figsize=(3,3))"
   ]
  },
  {
   "cell_type": "code",
   "execution_count": 21,
   "metadata": {},
   "outputs": [],
   "source": [
    "polygonis = Polygon(city['geometry'][0])\n",
    "\n",
    "# Categorias desejadas\n",
    "amenities = ['hospital', 'school', 'restaurant', 'supermarket', 'pharmacy', 'bank', \n",
    "             'fast_food', 'dentist', 'post_office', \n",
    "             'bar', 'bbq', 'biergarten', 'cafe', 'food_court', 'ice_cream', 'pub',\n",
    "             'college', 'kindergarten', 'library', 'public_bookcase', 'university']\n",
    "\n",
    "# Colunas desejadas\n",
    "columns = ['ais','name','amenity','addr:city','addr:housenumber','addr:postcode','addr:street','lat','lon']\n",
    "\n",
    "# Das colunas desejadas, aquelas que não podem conter nenhum elemento nulo\n",
    "not_null_columns = ['amenity', 'lat', 'lon']\n",
    "\n",
    "pois = ox.pois.create_poi_gdf(polygon = polygonis, amenities = amenities)\n",
    "pois.to_csv('pointsOfInteresting.csv', sep=',', encoding='utf-8', index=False)"
   ]
  },
  {
   "cell_type": "code",
   "execution_count": null,
   "metadata": {},
   "outputs": [],
   "source": []
  }
 ],
 "metadata": {
  "kernelspec": {
   "display_name": "Python 3",
   "language": "python",
   "name": "python3"
  },
  "language_info": {
   "codemirror_mode": {
    "name": "ipython",
    "version": 3
   },
   "file_extension": ".py",
   "mimetype": "text/x-python",
   "name": "python",
   "nbconvert_exporter": "python",
   "pygments_lexer": "ipython3",
   "version": "3.7.3"
  }
 },
 "nbformat": 4,
 "nbformat_minor": 2
}
